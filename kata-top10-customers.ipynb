{
 "cells": [
  {
   "cell_type": "markdown",
   "id": "a447b8b5-f16b-451f-b45c-47746f721e1e",
   "metadata": {},
   "source": [
    "# Kata:"
   ]
  },
  {
   "cell_type": "markdown",
   "id": "c7379b61-1f04-4fa2-8865-bf3e2c83b39e",
   "metadata": {},
   "source": [
    "https://www.codewars.com/kata/580d08b5c049aef8f900007c/train/sql"
   ]
  },
  {
   "cell_type": "markdown",
   "id": "5e2a4659-1d95-44fb-b92c-4646b4da4e6f",
   "metadata": {},
   "source": [
    "## Your name or team members:"
   ]
  },
  {
   "cell_type": "code",
   "execution_count": null,
   "id": "29ead553-d8b4-41aa-937f-7fd045595855",
   "metadata": {},
   "outputs": [],
   "source": [
    "Valeriia Paksivatkina"
   ]
  },
  {
   "cell_type": "markdown",
   "id": "f04997cc-966d-4e06-8eb0-64ab376728f8",
   "metadata": {},
   "source": [
    "## Use the following cells to test your solution:"
   ]
  },
  {
   "cell_type": "code",
   "execution_count": null,
   "id": "1c1f6098-25a1-4805-a249-b833ca4a66a0",
   "metadata": {},
   "outputs": [],
   "source": [
    "SELECT\n",
    "    customer.customer_id,\n",
    "    customer.email,\n",
    "    COUNT(payment.payment_id) AS payments_count,\n",
    "    SUM((payment.amount) AS FLOAT) AS total_amount\n",
    "\n",
    "\n",
    "FROM\n",
    "    customer\n",
    "\n",
    "JOIN\n",
    "    payment ON customer.customer_id = payment.customer_id\n",
    "\n",
    "GROUP BY\n",
    "    customer.customer_id,\n",
    "    customer.email\n",
    "\n",
    "ORDER BY\n",
    "    total_amount DESC\n",
    "\n",
    "\n",
    "LIMIT\n",
    "    10"
   ]
  },
  {
   "cell_type": "markdown",
   "id": "5e5948ae-bfb0-4aa7-8cc0-83970accb44a",
   "metadata": {},
   "source": [
    "## Copy your submited solution here:"
   ]
  },
  {
   "cell_type": "code",
   "execution_count": null,
   "id": "de8f88a1-897b-4b92-8c9f-e04d16cec21a",
   "metadata": {},
   "outputs": [],
   "source": [
    "SELECT\n",
    "    customer.customer_id,\n",
    "    customer.email,\n",
    "    COUNT(payment.payment_id) AS payments_count,\n",
    "    SUM((payment.amount) AS FLOAT) AS total_amount\n",
    "\n",
    "\n",
    "FROM\n",
    "    customer\n",
    "\n",
    "JOIN\n",
    "    payment ON customer.customer_id = payment.customer_id\n",
    "\n",
    "GROUP BY\n",
    "    customer.customer_id,\n",
    "    customer.email\n",
    "\n",
    "ORDER BY\n",
    "    total_amount DESC\n",
    "\n",
    "\n",
    "LIMIT\n",
    "    10"
   ]
  }
 ],
 "metadata": {
  "kernelspec": {
   "display_name": "Python 3 (ipykernel)",
   "language": "python",
   "name": "python3"
  },
  "language_info": {
   "codemirror_mode": {
    "name": "ipython",
    "version": 3
   },
   "file_extension": ".py",
   "mimetype": "text/x-python",
   "name": "python",
   "nbconvert_exporter": "python",
   "pygments_lexer": "ipython3",
   "version": "3.10.12"
  },
  "varInspector": {
   "cols": {
    "lenName": 16,
    "lenType": 16,
    "lenVar": 40
   },
   "kernels_config": {
    "python": {
     "delete_cmd_postfix": "",
     "delete_cmd_prefix": "del ",
     "library": "var_list.py",
     "varRefreshCmd": "print(var_dic_list())"
    },
    "r": {
     "delete_cmd_postfix": ") ",
     "delete_cmd_prefix": "rm(",
     "library": "var_list.r",
     "varRefreshCmd": "cat(var_dic_list()) "
    }
   },
   "types_to_exclude": [
    "module",
    "function",
    "builtin_function_or_method",
    "instance",
    "_Feature"
   ],
   "window_display": false
  }
 },
 "nbformat": 4,
 "nbformat_minor": 5
}
